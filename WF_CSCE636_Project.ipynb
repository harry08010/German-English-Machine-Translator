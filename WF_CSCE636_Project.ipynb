{
 "cells": [
  {
   "cell_type": "markdown",
   "metadata": {
    "colab_type": "text",
    "id": "I1zQTwsqbAW9"
   },
   "source": [
    "# **Machine Translation - CSCE 636 Project**\n",
    "\n",
    "## **Introduction**\n",
    "\n",
    "The goal of this project is to implement a machine translation model. In the first step, a dataset of German to English terms will be used to train a translation model. The dataset can be accessed here:\n",
    "\n",
    "[German-English deu-eng.zip](http://www.manythings.org/anki/deu-eng.zip)"
   ]
  },
  {
   "cell_type": "markdown",
   "metadata": {
    "colab_type": "text",
    "id": "CslsyjrebNzl"
   },
   "source": [
    "## **Load the Dataset**"
   ]
  },
  {
   "cell_type": "code",
   "execution_count": 1,
   "metadata": {},
   "outputs": [],
   "source": [
    "import warnings\n",
    "warnings.filterwarnings(\"ignore\")"
   ]
  },
  {
   "cell_type": "code",
   "execution_count": 2,
   "metadata": {
    "colab": {},
    "colab_type": "code",
    "id": "01Me3Cxpbqgt"
   },
   "outputs": [],
   "source": [
    "# Unzip the data file\n",
    "import zipfile\n",
    "zip_ref = zipfile.ZipFile('deu-eng.zip', 'r')\n",
    "zip_ref.extractall('data-deu-eng')\n",
    "zip_ref.close()"
   ]
  },
  {
   "cell_type": "markdown",
   "metadata": {
    "colab_type": "text",
    "id": "rvfCQYlxd0Kp"
   },
   "source": [
    "The file called deu.txt that contains 152,820 pairs of English to German phases, one pair per line with a tab separating the language."
   ]
  },
  {
   "cell_type": "code",
   "execution_count": 3,
   "metadata": {
    "colab": {
     "base_uri": "https://localhost:8080/",
     "height": 102
    },
    "colab_type": "code",
    "id": "u8HyAM_td54x",
    "outputId": "fbf22c27-cb70-4836-ff02-97043687a229"
   },
   "outputs": [
    {
     "name": "stdout",
     "output_type": "stream",
     "text": [
      "Hi. Hallo! \n",
      "Hi. Grüß Gott! \n",
      "Run! Lauf! \n",
      "Wow! Potzdonner! \n",
      "Wow! Donnerwetter! \n"
     ]
    }
   ],
   "source": [
    "# First 5 lines of the deu.txt file\n",
    "import re\n",
    "with open(\"data-deu-eng/deu.txt\") as datafile:\n",
    "    head = [next(datafile) for x in range(5)]\n",
    "\n",
    "for pair in head:\n",
    "  print(re.sub('\\s+',' ',pair))"
   ]
  },
  {
   "cell_type": "markdown",
   "metadata": {
    "colab_type": "text",
    "id": "GU8toYpDmWXd"
   },
   "source": [
    "## **Prepare the Text Data**"
   ]
  },
  {
   "cell_type": "markdown",
   "metadata": {
    "colab_type": "text",
    "id": "SF2H1l3Mmcau"
   },
   "source": [
    "Reviewing the raw data, there are some observations:\n",
    "* Punctuation;\n",
    "* Uppercase and lowercase; \n",
    "* Special characters in German; \n",
    "* Same phrases in English with different translations in German.\n",
    "\n",
    "Therefore, it is necessary to clean the data. So the data preparation is divided into two subsections:\n",
    "**clean text and split text**."
   ]
  },
  {
   "cell_type": "code",
   "execution_count": 4,
   "metadata": {
    "colab": {},
    "colab_type": "code",
    "id": "KA3SI2UyoRMh"
   },
   "outputs": [],
   "source": [
    "# load doc into memory\n",
    "import string\n",
    "from pickle import dump\n",
    "from unicodedata import normalize\n",
    "from numpy import array\n",
    "\n",
    "def load_doc(filename):\n",
    "\t# open the file as read only\n",
    "\tfile = open(filename, mode='rt', encoding='utf-8') # preserving the Unicode German characters\n",
    "\t# read all text\n",
    "\ttext = file.read()\n",
    "\t# close the file\n",
    "\tfile.close()\n",
    "\treturn text"
   ]
  },
  {
   "cell_type": "markdown",
   "metadata": {
    "colab_type": "text",
    "id": "ITtyMtJ-n0m9"
   },
   "source": [
    "**1. Clean Text**"
   ]
  },
  {
   "cell_type": "code",
   "execution_count": 5,
   "metadata": {
    "colab": {},
    "colab_type": "code",
    "id": "Ims6_jcVofr2"
   },
   "outputs": [],
   "source": [
    "# split a loaded document into sentences\n",
    "def to_pairs(doc):\n",
    "\tlines = doc.strip().split('\\n')\n",
    "\tpairs = [line.split('\\t') for line in  lines] # seperate the English and German phrases\n",
    "\treturn pairs"
   ]
  },
  {
   "cell_type": "code",
   "execution_count": 6,
   "metadata": {
    "colab": {},
    "colab_type": "code",
    "id": "TcuEyEz-ozQ6"
   },
   "outputs": [],
   "source": [
    "# clean a list of lines\n",
    "def clean_pairs(lines):\n",
    "\tcleaned = list()\n",
    "  \n",
    "\t# prepare regex for char filtering\n",
    "\tre_print = re.compile('[^%s]' % re.escape(string.printable))\n",
    "\t# prepare translation table for removing punctuation\n",
    "\ttable = str.maketrans('', '', string.punctuation)\n",
    "\tfor pair in lines:\n",
    "\t\tclean_pair = list()\n",
    "\t\tfor line in pair:\n",
    "\t\t\tline = normalize('NFD', line).encode('ascii', 'ignore') # normalize unicode characters\n",
    "\t\t\tline = line.decode('UTF-8')\n",
    "\t\t\tline = line.split()\n",
    "\t\t\tline = [word.translate(table) for word in line]         # remove punctuation from each token\n",
    "\t\t\tline = [re_print.sub('', w) for w in line]              # remove non-printable chars form each token\n",
    "\t\t\tline = [word for word in line if word.isalpha()]        # remove tokens with numbers in them\n",
    "\t\t\tclean_pair.append(' '.join(line))\n",
    "\t\tcleaned.append(clean_pair)\n",
    "\treturn array(cleaned)"
   ]
  },
  {
   "cell_type": "code",
   "execution_count": 7,
   "metadata": {
    "colab": {
     "base_uri": "https://localhost:8080/",
     "height": 1734
    },
    "colab_type": "code",
    "id": "Mbh_Fw8Cp3dF",
    "outputId": "f5694b30-4c83-4cdf-d7a7-e24eb093786a"
   },
   "outputs": [
    {
     "name": "stdout",
     "output_type": "stream",
     "text": [
      "Saved: english-german.pkl\n",
      "[Hi] => [Hallo]\n",
      "[Hi] => [Gru Gott]\n",
      "[Run] => [Lauf]\n",
      "[Wow] => [Potzdonner]\n",
      "[Wow] => [Donnerwetter]\n",
      "[Fire] => [Feuer]\n",
      "[Help] => [Hilfe]\n",
      "[Help] => [Zu Hulf]\n",
      "[Stop] => [Stopp]\n",
      "[Wait] => [Warte]\n"
     ]
    }
   ],
   "source": [
    "# save a list of clean sentences to file\n",
    "def save_clean_data(sentences, filename):\n",
    "\tdump(sentences, open(filename, 'wb'))\n",
    "\tprint('Saved: %s' % filename)\n",
    "\n",
    "# load dataset\n",
    "filename = 'data-deu-eng/deu.txt'\n",
    "doc = load_doc(filename)\n",
    "pairs = to_pairs(doc)\n",
    "clean_pairs = clean_pairs(pairs)\n",
    "\n",
    "# save clean pairs to file\n",
    "save_clean_data(clean_pairs, 'english-german.pkl')\n",
    "\n",
    "# spot check\n",
    "for i in range(10):\n",
    "\tprint('[%s] => [%s]' % (clean_pairs[i,0], clean_pairs[i,1]))"
   ]
  },
  {
   "cell_type": "markdown",
   "metadata": {
    "colab_type": "text",
    "id": "Xc373GPvqx7t"
   },
   "source": [
    "**2. Split Text**\n",
    "\n",
    "The cleaned data now has over 150,000 phrase pairs. Here, the first 100,000 examples will be used - the first 80,000 examples for training and the remaining 20,000 for validation and testing, 10,000 for each. "
   ]
  },
  {
   "cell_type": "code",
   "execution_count": 13,
   "metadata": {
    "colab": {
     "base_uri": "https://localhost:8080/",
     "height": 68
    },
    "colab_type": "code",
    "id": "gNiFIH06rloL",
    "outputId": "f3aa33b0-ab57-403e-ea32-b86d85ef7212"
   },
   "outputs": [
    {
     "name": "stdout",
     "output_type": "stream",
     "text": [
      "Saved: english-german-both.pkl\n",
      "Saved: english-german-train.pkl\n",
      "Saved: english-german-vali.pkl\n",
      "Saved: english-german-test.pkl\n"
     ]
    }
   ],
   "source": [
    "from pickle import load\n",
    "from pickle import dump\n",
    "from numpy.random import rand\n",
    "from numpy.random import shuffle\n",
    "\n",
    "# load a clean dataset\n",
    "def load_clean_sentences(filename):\n",
    "\treturn load(open(filename, 'rb'))\n",
    "\n",
    "# save a list of clean sentences to file\n",
    "def save_clean_data(sentences, filename):\n",
    "\tdump(sentences, open(filename, 'wb'))\n",
    "\tprint('Saved: %s' % filename)\n",
    "\n",
    "raw_dataset = load_clean_sentences('english-german.pkl')\n",
    "\n",
    "# reduce dataset size\n",
    "n_sentences = 90000\n",
    "dataset = raw_dataset[:n_sentences, :]\n",
    "\n",
    "# random shuffle\n",
    "shuffle(dataset)\n",
    "shuffle(dataset)\n",
    "\n",
    "# split into train/test\n",
    "train, vali = dataset[:75000], dataset[75000:82500]\n",
    "test = dataset[82500:]\n",
    "# save training/testing data\n",
    "save_clean_data(dataset, 'english-german-both.pkl')\n",
    "save_clean_data(train, 'english-german-train.pkl')\n",
    "save_clean_data(vali, 'english-german-vali.pkl')\n",
    "save_clean_data(test, 'english-german-test.pkl')"
   ]
  },
  {
   "cell_type": "markdown",
   "metadata": {
    "colab_type": "text",
    "id": "GBDXGdgKyRYc"
   },
   "source": [
    "## Train the Model"
   ]
  },
  {
   "cell_type": "code",
   "execution_count": 9,
   "metadata": {},
   "outputs": [
    {
     "name": "stderr",
     "output_type": "stream",
     "text": [
      "Using TensorFlow backend.\n"
     ]
    }
   ],
   "source": [
    "from pickle import load\n",
    "from numpy import array\n",
    "from keras.preprocessing.text import Tokenizer\n",
    "from keras.preprocessing.sequence import pad_sequences\n",
    "from keras.utils import to_categorical\n",
    "from keras.utils.vis_utils import plot_model\n",
    "from keras.models import Sequential\n",
    "from keras.layers import LSTM\n",
    "from keras.layers import Dense\n",
    "from keras.layers import Embedding\n",
    "from keras.layers import RepeatVector\n",
    "from keras.layers import TimeDistributed\n",
    "from keras.layers import Bidirectional\n",
    "from keras.callbacks import ModelCheckpoint\n",
    "from keras.layers import Activation\n"
   ]
  },
  {
   "cell_type": "code",
   "execution_count": 10,
   "metadata": {},
   "outputs": [],
   "source": [
    "# load a clean dataset\n",
    "def load_clean_sentences(filename):\n",
    "\treturn load(open(filename, 'rb'))\n",
    "\n",
    "# fit a tokenizer\n",
    "def create_tokenizer(lines):\n",
    "\ttokenizer = Tokenizer()\n",
    "\ttokenizer.fit_on_texts(lines)\n",
    "\treturn tokenizer\n",
    "\n",
    "# max sentence length\n",
    "def max_length(lines):\n",
    "\treturn max(len(line.split()) for line in lines)\n",
    "\n",
    "# encode and pad sequences\n",
    "def encode_sequences(tokenizer, length, lines):\n",
    "\t# integer encode sequences\n",
    "\tX = tokenizer.texts_to_sequences(lines)\n",
    "  \n",
    "\t# pad sequences with 0 values\n",
    "\tX = pad_sequences(X, maxlen=length, padding='post')\n",
    "  \n",
    "\treturn X\n",
    "\n",
    "# one hot encode target sequence\n",
    "def encode_output(sequences, vocab_size):\n",
    "\tylist = list()\n",
    "\tfor sequence in sequences:\n",
    "\t\tencoded = to_categorical(sequence, num_classes=vocab_size)\n",
    "\t\tylist.append(encoded)\n",
    "\ty = array(ylist)\n",
    "\ty = y.reshape(sequences.shape[0], sequences.shape[1], vocab_size)\n",
    "\treturn y"
   ]
  },
  {
   "cell_type": "code",
   "execution_count": 11,
   "metadata": {},
   "outputs": [
    {
     "name": "stdout",
     "output_type": "stream",
     "text": [
      "English Vocabulary Size: 9118\n",
      "English Max Length: 9\n",
      "German Vocabulary Size: 16398\n",
      "German Max Length: 17\n"
     ]
    }
   ],
   "source": [
    "# load datasets\n",
    "dataset = load_clean_sentences('english-german-both.pkl')\n",
    "train = load_clean_sentences('english-german-train.pkl')\n",
    "vali = load_clean_sentences('english-german-vali.pkl')\n",
    "test = load_clean_sentences('english-german-test.pkl')\n",
    "\n",
    "# prepare english tokenizer\n",
    "eng_tokenizer = create_tokenizer(dataset[:, 0])\n",
    "eng_vocab_size = len(eng_tokenizer.word_index) + 1\n",
    "eng_length = max_length(dataset[:, 0])\n",
    "print('English Vocabulary Size: %d' % eng_vocab_size)\n",
    "print('English Max Length: %d' % (eng_length))\n",
    "# prepare german tokenizer\n",
    "ger_tokenizer = create_tokenizer(dataset[:, 1])\n",
    "ger_vocab_size = len(ger_tokenizer.word_index) + 1\n",
    "ger_length = max_length(dataset[:, 1])\n",
    "print('German Vocabulary Size: %d' % ger_vocab_size)\n",
    "print('German Max Length: %d' % (ger_length))\n",
    "\n",
    "# prepare training data\n",
    "trainX = encode_sequences(ger_tokenizer, ger_length, train[:, 1])\n",
    "trainY = encode_sequences(eng_tokenizer, eng_length, train[:, 0])\n",
    "trainY = encode_output(trainY, eng_vocab_size)\n",
    "\n",
    "# prepare validation data\n",
    "valiX = encode_sequences(ger_tokenizer, ger_length, vali[:, 1])\n",
    "valiY = encode_sequences(eng_tokenizer, eng_length, vali[:, 0])\n",
    "valiY = encode_output(valiY, eng_vocab_size)\n",
    "\n",
    "# prepare test data\n",
    "testX = encode_sequences(ger_tokenizer, ger_length, test[:, 1])\n",
    "testY = encode_sequences(eng_tokenizer, eng_length, test[:, 0])\n",
    "testY = encode_output(testY, eng_vocab_size)"
   ]
  },
  {
   "cell_type": "code",
   "execution_count": 12,
   "metadata": {
    "colab": {
     "base_uri": "https://localhost:8080/",
     "height": 2009
    },
    "colab_type": "code",
    "id": "u42mG-QVyjn3",
    "outputId": "bc48fdb5-abfc-463d-94ad-e3067b4e3660"
   },
   "outputs": [
    {
     "name": "stdout",
     "output_type": "stream",
     "text": [
      "WARNING:tensorflow:From /Library/Frameworks/Python.framework/Versions/3.7/lib/python3.7/site-packages/tensorflow/python/framework/op_def_library.py:263: colocate_with (from tensorflow.python.framework.ops) is deprecated and will be removed in a future version.\n",
      "Instructions for updating:\n",
      "Colocations handled automatically by placer.\n",
      "_________________________________________________________________\n",
      "Layer (type)                 Output Shape              Param #   \n",
      "=================================================================\n",
      "embedding_1 (Embedding)      (None, 17, 256)           4197888   \n",
      "_________________________________________________________________\n",
      "lstm_1 (LSTM)                (None, 256)               525312    \n",
      "_________________________________________________________________\n",
      "repeat_vector_1 (RepeatVecto (None, 9, 256)            0         \n",
      "_________________________________________________________________\n",
      "lstm_2 (LSTM)                (None, 9, 256)            525312    \n",
      "_________________________________________________________________\n",
      "time_distributed_1 (TimeDist (None, 9, 9118)           2343326   \n",
      "=================================================================\n",
      "Total params: 7,591,838\n",
      "Trainable params: 7,591,838\n",
      "Non-trainable params: 0\n",
      "_________________________________________________________________\n",
      "None\n",
      "WARNING:tensorflow:From /Library/Frameworks/Python.framework/Versions/3.7/lib/python3.7/site-packages/tensorflow/python/ops/math_ops.py:3066: to_int32 (from tensorflow.python.ops.math_ops) is deprecated and will be removed in a future version.\n",
      "Instructions for updating:\n",
      "Use tf.cast instead.\n",
      "Train on 60000 samples, validate on 15000 samples\n",
      "Epoch 1/30\n",
      " - 293s - loss: 4.0814 - acc: 0.4807 - val_loss: 3.5298 - val_acc: 0.4836\n",
      "\n",
      "Epoch 00001: val_loss improved from inf to 3.52981, saving model to model.h5\n",
      "Epoch 2/30\n",
      " - 292s - loss: 3.4115 - acc: 0.4982 - val_loss: 3.3416 - val_acc: 0.5125\n",
      "\n",
      "Epoch 00002: val_loss improved from 3.52981 to 3.34165, saving model to model.h5\n",
      "Epoch 3/30\n",
      " - 295s - loss: 3.2856 - acc: 0.5095 - val_loss: 3.2593 - val_acc: 0.5143\n",
      "\n",
      "Epoch 00003: val_loss improved from 3.34165 to 3.25934, saving model to model.h5\n",
      "Epoch 4/30\n",
      " - 290s - loss: 3.2142 - acc: 0.5140 - val_loss: 3.2088 - val_acc: 0.5197\n",
      "\n",
      "Epoch 00004: val_loss improved from 3.25934 to 3.20875, saving model to model.h5\n",
      "Epoch 5/30\n",
      " - 296s - loss: 3.1666 - acc: 0.5195 - val_loss: 3.1794 - val_acc: 0.5227\n",
      "\n",
      "Epoch 00005: val_loss improved from 3.20875 to 3.17939, saving model to model.h5\n",
      "Epoch 6/30\n",
      " - 302s - loss: 3.1222 - acc: 0.5283 - val_loss: 3.1287 - val_acc: 0.5387\n",
      "\n",
      "Epoch 00006: val_loss improved from 3.17939 to 3.12871, saving model to model.h5\n",
      "Epoch 7/30\n",
      " - 292s - loss: 3.0523 - acc: 0.5423 - val_loss: 3.0728 - val_acc: 0.5443\n",
      "\n",
      "Epoch 00007: val_loss improved from 3.12871 to 3.07275, saving model to model.h5\n",
      "Epoch 8/30\n",
      " - 291s - loss: 2.9837 - acc: 0.5456 - val_loss: 2.9995 - val_acc: 0.5454\n",
      "\n",
      "Epoch 00008: val_loss improved from 3.07275 to 2.99947, saving model to model.h5\n",
      "Epoch 9/30\n",
      " - 289s - loss: 2.9073 - acc: 0.5508 - val_loss: 2.9227 - val_acc: 0.5558\n",
      "\n",
      "Epoch 00009: val_loss improved from 2.99947 to 2.92274, saving model to model.h5\n",
      "Epoch 10/30\n",
      " - 290s - loss: 2.8127 - acc: 0.5644 - val_loss: 2.8435 - val_acc: 0.5655\n",
      "\n",
      "Epoch 00010: val_loss improved from 2.92274 to 2.84345, saving model to model.h5\n",
      "Epoch 11/30\n",
      " - 290s - loss: 2.7222 - acc: 0.5741 - val_loss: 2.7634 - val_acc: 0.5764\n",
      "\n",
      "Epoch 00011: val_loss improved from 2.84345 to 2.76343, saving model to model.h5\n",
      "Epoch 12/30\n",
      " - 289s - loss: 2.6245 - acc: 0.5861 - val_loss: 2.6776 - val_acc: 0.5878\n",
      "\n",
      "Epoch 00012: val_loss improved from 2.76343 to 2.67759, saving model to model.h5\n",
      "Epoch 13/30\n",
      " - 289s - loss: 2.5193 - acc: 0.5997 - val_loss: 2.5811 - val_acc: 0.6008\n",
      "\n",
      "Epoch 00013: val_loss improved from 2.67759 to 2.58112, saving model to model.h5\n",
      "Epoch 14/30\n",
      " - 288s - loss: 2.4093 - acc: 0.6127 - val_loss: 2.4980 - val_acc: 0.6109\n",
      "\n",
      "Epoch 00014: val_loss improved from 2.58112 to 2.49804, saving model to model.h5\n",
      "Epoch 15/30\n",
      " - 289s - loss: 2.3016 - acc: 0.6260 - val_loss: 2.4140 - val_acc: 0.6206\n",
      "\n",
      "Epoch 00015: val_loss improved from 2.49804 to 2.41402, saving model to model.h5\n",
      "Epoch 16/30\n",
      " - 289s - loss: 2.1973 - acc: 0.6383 - val_loss: 2.3341 - val_acc: 0.6290\n",
      "\n",
      "Epoch 00016: val_loss improved from 2.41402 to 2.33409, saving model to model.h5\n",
      "Epoch 17/30\n",
      " - 288s - loss: 2.0948 - acc: 0.6489 - val_loss: 2.2538 - val_acc: 0.6384\n",
      "\n",
      "Epoch 00017: val_loss improved from 2.33409 to 2.25383, saving model to model.h5\n",
      "Epoch 18/30\n",
      " - 288s - loss: 1.9940 - acc: 0.6587 - val_loss: 2.1755 - val_acc: 0.6446\n",
      "\n",
      "Epoch 00018: val_loss improved from 2.25383 to 2.17551, saving model to model.h5\n",
      "Epoch 19/30\n",
      " - 289s - loss: 1.8966 - acc: 0.6680 - val_loss: 2.1106 - val_acc: 0.6487\n",
      "\n",
      "Epoch 00019: val_loss improved from 2.17551 to 2.11061, saving model to model.h5\n",
      "Epoch 20/30\n",
      " - 291s - loss: 1.8034 - acc: 0.6765 - val_loss: 2.0436 - val_acc: 0.6556\n",
      "\n",
      "Epoch 00020: val_loss improved from 2.11061 to 2.04363, saving model to model.h5\n",
      "Epoch 21/30\n",
      " - 289s - loss: 1.7095 - acc: 0.6858 - val_loss: 1.9879 - val_acc: 0.6629\n",
      "\n",
      "Epoch 00021: val_loss improved from 2.04363 to 1.98789, saving model to model.h5\n",
      "Epoch 22/30\n",
      " - 290s - loss: 1.6210 - acc: 0.6941 - val_loss: 1.9241 - val_acc: 0.6685\n",
      "\n",
      "Epoch 00022: val_loss improved from 1.98789 to 1.92412, saving model to model.h5\n",
      "Epoch 23/30\n",
      " - 289s - loss: 1.5378 - acc: 0.7026 - val_loss: 1.8725 - val_acc: 0.6718\n",
      "\n",
      "Epoch 00023: val_loss improved from 1.92412 to 1.87252, saving model to model.h5\n",
      "Epoch 24/30\n",
      " - 289s - loss: 1.4549 - acc: 0.7117 - val_loss: 1.8276 - val_acc: 0.6766\n",
      "\n",
      "Epoch 00024: val_loss improved from 1.87252 to 1.82756, saving model to model.h5\n",
      "Epoch 25/30\n",
      " - 289s - loss: 1.3785 - acc: 0.7202 - val_loss: 1.7864 - val_acc: 0.6806\n",
      "\n",
      "Epoch 00025: val_loss improved from 1.82756 to 1.78640, saving model to model.h5\n",
      "Epoch 26/30\n",
      " - 290s - loss: 1.3035 - acc: 0.7294 - val_loss: 1.7544 - val_acc: 0.6868\n",
      "\n",
      "Epoch 00026: val_loss improved from 1.78640 to 1.75437, saving model to model.h5\n",
      "Epoch 27/30\n",
      " - 289s - loss: 1.2326 - acc: 0.7387 - val_loss: 1.7152 - val_acc: 0.6876\n",
      "\n",
      "Epoch 00027: val_loss improved from 1.75437 to 1.71517, saving model to model.h5\n",
      "Epoch 28/30\n",
      " - 289s - loss: 1.1647 - acc: 0.7480 - val_loss: 1.6779 - val_acc: 0.6947\n",
      "\n",
      "Epoch 00028: val_loss improved from 1.71517 to 1.67789, saving model to model.h5\n",
      "Epoch 29/30\n",
      " - 289s - loss: 1.1024 - acc: 0.7574 - val_loss: 1.6589 - val_acc: 0.6986\n",
      "\n",
      "Epoch 00029: val_loss improved from 1.67789 to 1.65889, saving model to model.h5\n",
      "Epoch 30/30\n",
      " - 293s - loss: 1.0443 - acc: 0.7663 - val_loss: 1.6270 - val_acc: 0.7024\n",
      "\n",
      "Epoch 00030: val_loss improved from 1.65889 to 1.62699, saving model to model.h5\n"
     ]
    }
   ],
   "source": [
    "# define baseline NMT model\n",
    "def define_baseline_model(src_vocab, tar_vocab, src_timesteps, tar_timesteps, n_units):\n",
    "  model = Sequential()\n",
    "  model.add(Embedding(src_vocab, n_units, input_length=src_timesteps, mask_zero=True))\n",
    "  model.add(LSTM(n_units))\n",
    "#   model.add(AttentionL(src_timesteps))\n",
    "  model.add(RepeatVector(tar_timesteps))\n",
    "  model.add(LSTM(n_units, return_sequences=True))\n",
    "  model.add(TimeDistributed(Dense(tar_vocab, activation='softmax')))\n",
    "  return model\n",
    "\n",
    "# define model\n",
    "model = define_baseline_model(ger_vocab_size, eng_vocab_size, ger_length, eng_length, 256)\n",
    "model.compile(optimizer='adam', loss='categorical_crossentropy', metrics=['accuracy'])\n",
    "\n",
    "# summarize defined model\n",
    "print(model.summary())\n",
    "plot_model(model, to_file='model.png', show_shapes=True)\n",
    "\n",
    "# fit model\n",
    "filename = 'model.h5'\n",
    "checkpoint = ModelCheckpoint(filename, monitor='val_loss', verbose=1, save_best_only=True, mode='min')\n",
    "history = model.fit(trainX, trainY, epochs=30, batch_size=256, validation_data=(valiX, valiY), callbacks=[checkpoint], verbose=2)"
   ]
  },
  {
   "cell_type": "code",
   "execution_count": 15,
   "metadata": {},
   "outputs": [
    {
     "data": {
      "image/png": "[encoded data removed]",
      "text/plain": [
       "<Figure size 432x288 with 1 Axes>"
      ]
     },
     "metadata": {
      "needs_background": "light"
     },
     "output_type": "display_data"
    }
   ],
   "source": [
    "%matplotlib inline\n",
    "import matplotlib.pyplot as plt\n",
    "\n",
    "loss = history.history['loss']\n",
    "val_loss = history.history['val_loss']\n",
    "\n",
    "epochs = range(1, len(loss) + 1)\n",
    "\n",
    "plt.figure()\n",
    "\n",
    "plt.plot(epochs, loss, 'bo', label='Training loss')\n",
    "plt.plot(epochs, val_loss, 'b', label='Validation loss')\n",
    "plt.title('Training and validation loss')\n",
    "plt.legend()\n",
    "\n",
    "plt.show()"
   ]
  },
  {
   "cell_type": "code",
   "execution_count": 16,
   "metadata": {},
   "outputs": [],
   "source": [
    "# define bidirectional model\n",
    "def define_bidirectional_model(src_vocab, tar_vocab, src_timesteps, tar_timesteps, n_units):\n",
    "  model = Sequential()\n",
    "  model.add(Embedding(src_vocab, n_units, input_length=src_timesteps, mask_zero=True))\n",
    "  model.add(Bidirectional(LSTM(n_units, dropout=0.5)))\n",
    "  model.add(RepeatVector(tar_timesteps))\n",
    "  model.add(Bidirectional(LSTM(n_units, return_sequences=True, dropout=0.5)))\n",
    "  model.add(TimeDistributed(Dense(tar_vocab, activation='softmax')))\n",
    "  return model"
   ]
  },
  {
   "cell_type": "code",
   "execution_count": 17,
   "metadata": {},
   "outputs": [
    {
     "name": "stdout",
     "output_type": "stream",
     "text": [
      "English Vocabulary Size: 9118\n",
      "English Max Length: 9\n",
      "German Vocabulary Size: 16398\n",
      "German Max Length: 17\n",
      "WARNING:tensorflow:From /Library/Frameworks/Python.framework/Versions/3.7/lib/python3.7/site-packages/keras/backend/tensorflow_backend.py:3445: calling dropout (from tensorflow.python.ops.nn_ops) with keep_prob is deprecated and will be removed in a future version.\n",
      "Instructions for updating:\n",
      "Please use `rate` instead of `keep_prob`. Rate should be set to `rate = 1 - keep_prob`.\n",
      "_________________________________________________________________\n",
      "Layer (type)                 Output Shape              Param #   \n",
      "=================================================================\n",
      "embedding_2 (Embedding)      (None, 17, 256)           4197888   \n",
      "_________________________________________________________________\n",
      "bidirectional_1 (Bidirection (None, 512)               1050624   \n",
      "_________________________________________________________________\n",
      "repeat_vector_2 (RepeatVecto (None, 9, 512)            0         \n",
      "_________________________________________________________________\n",
      "bidirectional_2 (Bidirection (None, 9, 512)            1574912   \n",
      "_________________________________________________________________\n",
      "time_distributed_2 (TimeDist (None, 9, 9118)           4677534   \n",
      "=================================================================\n",
      "Total params: 11,500,958\n",
      "Trainable params: 11,500,958\n",
      "Non-trainable params: 0\n",
      "_________________________________________________________________\n",
      "None\n",
      "Train on 75000 samples, validate on 7500 samples\n",
      "Epoch 1/30\n",
      " - 454s - loss: 3.5551 - acc: 0.5082 - val_loss: 3.0879 - val_acc: 0.5321\n",
      "\n",
      "Epoch 00001: val_loss improved from inf to 3.08794, saving model to bi_model.h5\n",
      "Epoch 2/30\n",
      " - 452s - loss: 2.9402 - acc: 0.5463 - val_loss: 2.8342 - val_acc: 0.5554\n",
      "\n",
      "Epoch 00002: val_loss improved from 3.08794 to 2.83420, saving model to bi_model.h5\n",
      "Epoch 3/30\n",
      " - 449s - loss: 2.6536 - acc: 0.5756 - val_loss: 2.5399 - val_acc: 0.5917\n",
      "\n",
      "Epoch 00003: val_loss improved from 2.83420 to 2.53989, saving model to bi_model.h5\n",
      "Epoch 4/30\n",
      " - 449s - loss: 2.3476 - acc: 0.6112 - val_loss: 2.2483 - val_acc: 0.6286\n",
      "\n",
      "Epoch 00004: val_loss improved from 2.53989 to 2.24826, saving model to bi_model.h5\n",
      "Epoch 5/30\n",
      " - 444s - loss: 2.0665 - acc: 0.6396 - val_loss: 2.0187 - val_acc: 0.6528\n",
      "\n",
      "Epoch 00005: val_loss improved from 2.24826 to 2.01873, saving model to bi_model.h5\n",
      "Epoch 6/30\n",
      " - 444s - loss: 1.8366 - acc: 0.6613 - val_loss: 1.8444 - val_acc: 0.6716\n",
      "\n",
      "Epoch 00006: val_loss improved from 2.01873 to 1.84439, saving model to bi_model.h5\n",
      "Epoch 7/30\n",
      " - 444s - loss: 1.6435 - acc: 0.6801 - val_loss: 1.7057 - val_acc: 0.6862\n",
      "\n",
      "Epoch 00007: val_loss improved from 1.84439 to 1.70574, saving model to bi_model.h5\n",
      "Epoch 8/30\n",
      " - 449s - loss: 1.4809 - acc: 0.6967 - val_loss: 1.5998 - val_acc: 0.6990\n",
      "\n",
      "Epoch 00008: val_loss improved from 1.70574 to 1.59984, saving model to bi_model.h5\n",
      "Epoch 9/30\n",
      " - 454s - loss: 1.3452 - acc: 0.7123 - val_loss: 1.5192 - val_acc: 0.7082\n",
      "\n",
      "Epoch 00009: val_loss improved from 1.59984 to 1.51924, saving model to bi_model.h5\n",
      "Epoch 10/30\n",
      " - 452s - loss: 1.2313 - acc: 0.7271 - val_loss: 1.4496 - val_acc: 0.7188\n",
      "\n",
      "Epoch 00010: val_loss improved from 1.51924 to 1.44956, saving model to bi_model.h5\n",
      "Epoch 11/30\n",
      " - 448s - loss: 1.1346 - acc: 0.7406 - val_loss: 1.3989 - val_acc: 0.7259\n",
      "\n",
      "Epoch 00011: val_loss improved from 1.44956 to 1.39887, saving model to bi_model.h5\n",
      "Epoch 12/30\n",
      " - 445s - loss: 1.0521 - acc: 0.7537 - val_loss: 1.3634 - val_acc: 0.7301\n",
      "\n",
      "Epoch 00012: val_loss improved from 1.39887 to 1.36340, saving model to bi_model.h5\n",
      "Epoch 13/30\n",
      " - 445s - loss: 0.9819 - acc: 0.7651 - val_loss: 1.3276 - val_acc: 0.7376\n",
      "\n",
      "Epoch 00013: val_loss improved from 1.36340 to 1.32760, saving model to bi_model.h5\n",
      "Epoch 14/30\n",
      " - 444s - loss: 0.9202 - acc: 0.7760 - val_loss: 1.3012 - val_acc: 0.7437\n",
      "\n",
      "Epoch 00014: val_loss improved from 1.32760 to 1.30117, saving model to bi_model.h5\n",
      "Epoch 15/30\n",
      " - 444s - loss: 0.8688 - acc: 0.7853 - val_loss: 1.2752 - val_acc: 0.7486\n",
      "\n",
      "Epoch 00015: val_loss improved from 1.30117 to 1.27523, saving model to bi_model.h5\n",
      "Epoch 16/30\n",
      " - 444s - loss: 0.8223 - acc: 0.7939 - val_loss: 1.2592 - val_acc: 0.7525\n",
      "\n",
      "Epoch 00016: val_loss improved from 1.27523 to 1.25917, saving model to bi_model.h5\n",
      "Epoch 17/30\n",
      " - 450s - loss: 0.7816 - acc: 0.8021 - val_loss: 1.2444 - val_acc: 0.7546\n",
      "\n",
      "Epoch 00017: val_loss improved from 1.25917 to 1.24437, saving model to bi_model.h5\n",
      "Epoch 18/30\n",
      " - 444s - loss: 0.7476 - acc: 0.8086 - val_loss: 1.2363 - val_acc: 0.7563\n",
      "\n",
      "Epoch 00018: val_loss improved from 1.24437 to 1.23630, saving model to bi_model.h5\n",
      "Epoch 19/30\n",
      " - 445s - loss: 0.7141 - acc: 0.8157 - val_loss: 1.2254 - val_acc: 0.7594\n",
      "\n",
      "Epoch 00019: val_loss improved from 1.23630 to 1.22544, saving model to bi_model.h5\n",
      "Epoch 20/30\n",
      " - 453s - loss: 0.6864 - acc: 0.8208 - val_loss: 1.2171 - val_acc: 0.7619\n",
      "\n",
      "Epoch 00020: val_loss improved from 1.22544 to 1.21705, saving model to bi_model.h5\n",
      "Epoch 21/30\n",
      " - 456s - loss: 0.6596 - acc: 0.8262 - val_loss: 1.2111 - val_acc: 0.7641\n",
      "\n",
      "Epoch 00021: val_loss improved from 1.21705 to 1.21113, saving model to bi_model.h5\n",
      "Epoch 22/30\n",
      " - 452s - loss: 0.6355 - acc: 0.8312 - val_loss: 1.2102 - val_acc: 0.7635\n",
      "\n",
      "Epoch 00022: val_loss improved from 1.21113 to 1.21025, saving model to bi_model.h5\n",
      "Epoch 23/30\n",
      " - 445s - loss: 0.6136 - acc: 0.8359 - val_loss: 1.1985 - val_acc: 0.7685\n",
      "\n",
      "Epoch 00023: val_loss improved from 1.21025 to 1.19846, saving model to bi_model.h5\n",
      "Epoch 24/30\n",
      " - 464s - loss: 0.5930 - acc: 0.8400 - val_loss: 1.1960 - val_acc: 0.7703\n",
      "\n",
      "Epoch 00024: val_loss improved from 1.19846 to 1.19596, saving model to bi_model.h5\n",
      "Epoch 25/30\n",
      " - 464s - loss: 0.5748 - acc: 0.8443 - val_loss: 1.1955 - val_acc: 0.7696\n",
      "\n",
      "Epoch 00025: val_loss improved from 1.19596 to 1.19545, saving model to bi_model.h5\n",
      "Epoch 26/30\n",
      " - 462s - loss: 0.5571 - acc: 0.8480 - val_loss: 1.1965 - val_acc: 0.7711\n",
      "\n",
      "Epoch 00026: val_loss did not improve from 1.19545\n",
      "Epoch 27/30\n",
      " - 464s - loss: 0.5412 - acc: 0.8516 - val_loss: 1.1972 - val_acc: 0.7716\n",
      "\n",
      "Epoch 00027: val_loss did not improve from 1.19545\n",
      "Epoch 28/30\n",
      " - 461s - loss: 0.5258 - acc: 0.8545 - val_loss: 1.1957 - val_acc: 0.7720\n",
      "\n",
      "Epoch 00028: val_loss did not improve from 1.19545\n",
      "Epoch 29/30\n",
      " - 462s - loss: 0.5109 - acc: 0.8578 - val_loss: 1.2001 - val_acc: 0.7736\n",
      "\n",
      "Epoch 00029: val_loss did not improve from 1.19545\n",
      "Epoch 30/30\n",
      " - 461s - loss: 0.4978 - acc: 0.8609 - val_loss: 1.1977 - val_acc: 0.7746\n",
      "\n",
      "Epoch 00030: val_loss did not improve from 1.19545\n"
     ]
    }
   ],
   "source": [
    "# prepare english tokenizer\n",
    "eng_tokenizer = create_tokenizer(dataset[:, 0])\n",
    "eng_vocab_size = len(eng_tokenizer.word_index) + 1\n",
    "eng_length = max_length(dataset[:, 0])\n",
    "print('English Vocabulary Size: %d' % eng_vocab_size)\n",
    "print('English Max Length: %d' % (eng_length))\n",
    "# prepare german tokenizer\n",
    "ger_tokenizer = create_tokenizer(dataset[:, 1])\n",
    "ger_vocab_size = len(ger_tokenizer.word_index) + 1\n",
    "ger_length = max_length(dataset[:, 1])\n",
    "print('German Vocabulary Size: %d' % ger_vocab_size)\n",
    "print('German Max Length: %d' % (ger_length))\n",
    "\n",
    "bi_trainX = encode_sequences(ger_tokenizer, ger_length, train[:, 1])\n",
    "bi_trainY = encode_sequences(eng_tokenizer, eng_length, train[:, 0])\n",
    "bi_trainY = encode_output(bi_trainY, eng_vocab_size)\n",
    "\n",
    "# prepare validation data\n",
    "bi_valiX = encode_sequences(ger_tokenizer, ger_length, vali[:, 1])\n",
    "bi_valiY = encode_sequences(eng_tokenizer, eng_length, vali[:, 0])\n",
    "bi_valiY = encode_output(bi_valiY, eng_vocab_size)\n",
    "\n",
    "bi_testX = encode_sequences(ger_tokenizer, ger_length, test[:, 1])\n",
    "bi_testY = encode_sequences(eng_tokenizer, eng_length, test[:, 0])\n",
    "bi_testY = encode_output(bi_testY, eng_vocab_size)\n",
    "\n",
    "bi_model = define_bidirectional_model(ger_vocab_size, eng_vocab_size, ger_length, eng_length, 256)\n",
    "bi_model.compile(optimizer='adam', loss='categorical_crossentropy', metrics=['accuracy'])\n",
    "\n",
    "# summarize defined model\n",
    "print(bi_model.summary())\n",
    "plot_model(bi_model, to_file='bi_model.png', show_shapes=True)\n",
    "\n",
    "# fit model\n",
    "filename = 'bi_model.h5'\n",
    "checkpoint = ModelCheckpoint(filename, monitor='val_loss', verbose=1, save_best_only=True, mode='min')\n",
    "bi_history = bi_model.fit(bi_trainX, bi_trainY, epochs=30, batch_size=256, validation_data=(bi_valiX, bi_valiY), callbacks=[checkpoint], verbose=2)"
   ]
  },
  {
   "cell_type": "code",
   "execution_count": 26,
   "metadata": {},
   "outputs": [
    {
     "data": {
      "image/png": "[encoded data removed]",
      "text/plain": [
       "<Figure size 432x288 with 1 Axes>"
      ]
     },
     "metadata": {
      "needs_background": "light"
     },
     "output_type": "display_data"
    }
   ],
   "source": [
    "%matplotlib inline\n",
    "import matplotlib.pyplot as plt\n",
    "\n",
    "loss = bi_history.history['loss']\n",
    "val_loss = bi_history.history['val_loss']\n",
    "\n",
    "epochs = range(1, len(loss) + 1)\n",
    "\n",
    "plt.figure()\n",
    "\n",
    "plt.plot(epochs, loss, 'bo', label='Training loss')\n",
    "plt.plot(epochs, val_loss, 'b', label='Validation loss')\n",
    "plt.title('Training and validation loss')\n",
    "plt.legend()\n",
    "\n",
    "plt.show()"
   ]
  },
  {
   "cell_type": "code",
   "execution_count": 28,
   "metadata": {},
   "outputs": [],
   "source": [
    "from AttentionMechanism import AttentionL\n",
    "# define attention model\n",
    "def define_attention_model(src_vocab, tar_vocab, src_timesteps, tar_timesteps, n_units):\n",
    "  model = Sequential()\n",
    "  model.add(Embedding(src_vocab, n_units, input_length=src_timesteps, mask_zero=True))\n",
    "  model.add(Bidirectional(LSTM(n_units, return_sequences=True, dropout=0.5)))\n",
    "  model.add(AttentionL(src_timesteps))\n",
    "  model.add(RepeatVector(tar_timesteps))\n",
    "  model.add(Bidirectional(LSTM(n_units, return_sequences=True, dropout=0.5)))\n",
    "  model.add(TimeDistributed(Dense(tar_vocab, activation='softmax')))\n",
    "  return model"
   ]
  },
  {
   "cell_type": "code",
   "execution_count": 29,
   "metadata": {},
   "outputs": [
    {
     "name": "stdout",
     "output_type": "stream",
     "text": [
      "English Vocabulary Size: 9118\n",
      "English Max Length: 9\n",
      "German Vocabulary Size: 16398\n",
      "German Max Length: 17\n",
      "_________________________________________________________________\n",
      "Layer (type)                 Output Shape              Param #   \n",
      "=================================================================\n",
      "embedding_4 (Embedding)      (None, 17, 256)           4197888   \n",
      "_________________________________________________________________\n",
      "bidirectional_5 (Bidirection (None, 17, 512)           1050624   \n",
      "_________________________________________________________________\n",
      "attention_l_2 (AttentionL)   (None, 512)               529       \n",
      "_________________________________________________________________\n",
      "repeat_vector_4 (RepeatVecto (None, 9, 512)            0         \n",
      "_________________________________________________________________\n",
      "bidirectional_6 (Bidirection (None, 9, 512)            1574912   \n",
      "_________________________________________________________________\n",
      "time_distributed_4 (TimeDist (None, 9, 9118)           4677534   \n",
      "=================================================================\n",
      "Total params: 11,501,487\n",
      "Trainable params: 11,501,487\n",
      "Non-trainable params: 0\n",
      "_________________________________________________________________\n",
      "None\n",
      "Train on 75000 samples, validate on 7500 samples\n",
      "Epoch 1/30\n",
      " - 460s - loss: 3.5702 - acc: 0.5076 - val_loss: 3.1053 - val_acc: 0.5321\n",
      "\n",
      "Epoch 00001: val_loss improved from inf to 3.10529, saving model to attention_model.h5\n",
      "Epoch 2/30\n",
      " - 454s - loss: 2.9359 - acc: 0.5470 - val_loss: 2.8215 - val_acc: 0.5571\n",
      "\n",
      "Epoch 00002: val_loss improved from 3.10529 to 2.82146, saving model to attention_model.h5\n",
      "Epoch 3/30\n",
      " - 454s - loss: 2.6563 - acc: 0.5758 - val_loss: 2.5584 - val_acc: 0.5894\n",
      "\n",
      "Epoch 00003: val_loss improved from 2.82146 to 2.55836, saving model to attention_model.h5\n",
      "Epoch 4/30\n",
      " - 454s - loss: 2.3708 - acc: 0.6076 - val_loss: 2.2783 - val_acc: 0.6238\n",
      "\n",
      "Epoch 00004: val_loss improved from 2.55836 to 2.27829, saving model to attention_model.h5\n",
      "Epoch 5/30\n",
      " - 453s - loss: 2.0901 - acc: 0.6372 - val_loss: 2.0436 - val_acc: 0.6503\n",
      "\n",
      "Epoch 00005: val_loss improved from 2.27829 to 2.04356, saving model to attention_model.h5\n",
      "Epoch 6/30\n",
      " - 455s - loss: 1.8579 - acc: 0.6593 - val_loss: 1.8700 - val_acc: 0.6688\n",
      "\n",
      "Epoch 00006: val_loss improved from 2.04356 to 1.86995, saving model to attention_model.h5\n",
      "Epoch 7/30\n",
      " - 458s - loss: 1.6694 - acc: 0.6768 - val_loss: 1.7341 - val_acc: 0.6848\n",
      "\n",
      "Epoch 00007: val_loss improved from 1.86995 to 1.73412, saving model to attention_model.h5\n",
      "Epoch 8/30\n",
      " - 455s - loss: 1.5137 - acc: 0.6927 - val_loss: 1.6333 - val_acc: 0.6950\n",
      "\n",
      "Epoch 00008: val_loss improved from 1.73412 to 1.63334, saving model to attention_model.h5\n",
      "Epoch 9/30\n",
      " - 453s - loss: 1.3831 - acc: 0.7067 - val_loss: 1.5484 - val_acc: 0.7050\n",
      "\n",
      "Epoch 00009: val_loss improved from 1.63334 to 1.54838, saving model to attention_model.h5\n",
      "Epoch 10/30\n",
      " - 454s - loss: 1.2721 - acc: 0.7204 - val_loss: 1.4825 - val_acc: 0.7137\n",
      "\n",
      "Epoch 00010: val_loss improved from 1.54838 to 1.48249, saving model to attention_model.h5\n",
      "Epoch 11/30\n",
      " - 454s - loss: 1.1757 - acc: 0.7335 - val_loss: 1.4316 - val_acc: 0.7211\n",
      "\n",
      "Epoch 00011: val_loss improved from 1.48249 to 1.43159, saving model to attention_model.h5\n",
      "Epoch 12/30\n",
      " - 456s - loss: 1.0952 - acc: 0.7451 - val_loss: 1.3898 - val_acc: 0.7277\n",
      "\n",
      "Epoch 00012: val_loss improved from 1.43159 to 1.38979, saving model to attention_model.h5\n",
      "Epoch 13/30\n",
      " - 455s - loss: 1.0242 - acc: 0.7566 - val_loss: 1.3573 - val_acc: 0.7325\n",
      "\n",
      "Epoch 00013: val_loss improved from 1.38979 to 1.35729, saving model to attention_model.h5\n",
      "Epoch 14/30\n",
      " - 456s - loss: 0.9628 - acc: 0.7675 - val_loss: 1.3258 - val_acc: 0.7383\n",
      "\n",
      "Epoch 00014: val_loss improved from 1.35729 to 1.32577, saving model to attention_model.h5\n",
      "Epoch 15/30\n",
      " - 454s - loss: 0.9092 - acc: 0.7773 - val_loss: 1.3033 - val_acc: 0.7422\n",
      "\n",
      "Epoch 00015: val_loss improved from 1.32577 to 1.30334, saving model to attention_model.h5\n",
      "Epoch 16/30\n",
      " - 457s - loss: 0.8625 - acc: 0.7854 - val_loss: 1.2816 - val_acc: 0.7452\n",
      "\n",
      "Epoch 00016: val_loss improved from 1.30334 to 1.28159, saving model to attention_model.h5\n",
      "Epoch 17/30\n",
      " - 463s - loss: 0.8200 - acc: 0.7940 - val_loss: 1.2689 - val_acc: 0.7488\n",
      "\n",
      "Epoch 00017: val_loss improved from 1.28159 to 1.26889, saving model to attention_model.h5\n",
      "Epoch 18/30\n",
      " - 463s - loss: 0.7838 - acc: 0.8012 - val_loss: 1.2560 - val_acc: 0.7522\n",
      "\n",
      "Epoch 00018: val_loss improved from 1.26889 to 1.25604, saving model to attention_model.h5\n",
      "Epoch 19/30\n",
      " - 459s - loss: 0.7501 - acc: 0.8074 - val_loss: 1.2436 - val_acc: 0.7539\n",
      "\n",
      "Epoch 00019: val_loss improved from 1.25604 to 1.24356, saving model to attention_model.h5\n",
      "Epoch 20/30\n",
      " - 461s - loss: 0.7198 - acc: 0.8133 - val_loss: 1.2330 - val_acc: 0.7569\n",
      "\n",
      "Epoch 00020: val_loss improved from 1.24356 to 1.23304, saving model to attention_model.h5\n",
      "Epoch 21/30\n",
      " - 463s - loss: 0.6928 - acc: 0.8185 - val_loss: 1.2249 - val_acc: 0.7599\n",
      "\n",
      "Epoch 00021: val_loss improved from 1.23304 to 1.22489, saving model to attention_model.h5\n",
      "Epoch 22/30\n",
      " - 462s - loss: 0.6658 - acc: 0.8242 - val_loss: 1.2201 - val_acc: 0.7604\n",
      "\n",
      "Epoch 00022: val_loss improved from 1.22489 to 1.22015, saving model to attention_model.h5\n",
      "Epoch 23/30\n",
      " - 459s - loss: 0.6438 - acc: 0.8286 - val_loss: 1.2142 - val_acc: 0.7619\n",
      "\n",
      "Epoch 00023: val_loss improved from 1.22015 to 1.21422, saving model to attention_model.h5\n",
      "Epoch 24/30\n",
      " - 460s - loss: 0.6215 - acc: 0.8339 - val_loss: 1.2093 - val_acc: 0.7631\n",
      "\n",
      "Epoch 00024: val_loss improved from 1.21422 to 1.20931, saving model to attention_model.h5\n",
      "Epoch 25/30\n",
      " - 460s - loss: 0.6013 - acc: 0.8378 - val_loss: 1.2091 - val_acc: 0.7639\n",
      "\n",
      "Epoch 00025: val_loss improved from 1.20931 to 1.20912, saving model to attention_model.h5\n",
      "Epoch 26/30\n",
      " - 460s - loss: 0.5839 - acc: 0.8421 - val_loss: 1.2055 - val_acc: 0.7646\n",
      "\n",
      "Epoch 00026: val_loss improved from 1.20912 to 1.20547, saving model to attention_model.h5\n",
      "Epoch 27/30\n",
      " - 460s - loss: 0.5653 - acc: 0.8455 - val_loss: 1.2054 - val_acc: 0.7685\n",
      "\n",
      "Epoch 00027: val_loss improved from 1.20547 to 1.20536, saving model to attention_model.h5\n",
      "Epoch 28/30\n",
      " - 460s - loss: 0.5505 - acc: 0.8488 - val_loss: 1.2039 - val_acc: 0.7677\n",
      "\n",
      "Epoch 00028: val_loss improved from 1.20536 to 1.20394, saving model to attention_model.h5\n",
      "Epoch 29/30\n",
      " - 462s - loss: 0.5344 - acc: 0.8520 - val_loss: 1.2032 - val_acc: 0.7695\n",
      "\n",
      "Epoch 00029: val_loss improved from 1.20394 to 1.20325, saving model to attention_model.h5\n",
      "Epoch 30/30\n",
      " - 465s - loss: 0.5203 - acc: 0.8554 - val_loss: 1.2066 - val_acc: 0.7687\n",
      "\n",
      "Epoch 00030: val_loss did not improve from 1.20325\n"
     ]
    }
   ],
   "source": [
    "# prepare english tokenizer\n",
    "eng_tokenizer = create_tokenizer(dataset[:, 0])\n",
    "eng_vocab_size = len(eng_tokenizer.word_index) + 1\n",
    "eng_length = max_length(dataset[:, 0])\n",
    "print('English Vocabulary Size: %d' % eng_vocab_size)\n",
    "print('English Max Length: %d' % (eng_length))\n",
    "# prepare german tokenizer\n",
    "ger_tokenizer = create_tokenizer(dataset[:, 1])\n",
    "ger_vocab_size = len(ger_tokenizer.word_index) + 1\n",
    "ger_length = max_length(dataset[:, 1])\n",
    "print('German Vocabulary Size: %d' % ger_vocab_size)\n",
    "print('German Max Length: %d' % (ger_length))\n",
    "\n",
    "attention_trainX = encode_sequences(ger_tokenizer, ger_length, train[:, 1])\n",
    "attention_trainY = encode_sequences(eng_tokenizer, eng_length, train[:, 0])\n",
    "attention_trainY = encode_output(attention_trainY, eng_vocab_size)\n",
    "\n",
    "attention_valiX = encode_sequences(ger_tokenizer, ger_length, vali[:, 1])\n",
    "attention_valiY = encode_sequences(eng_tokenizer, eng_length, vali[:, 0])\n",
    "attention_valiY = encode_output(attention_valiY, eng_vocab_size)\n",
    "\n",
    "attention_testX = encode_sequences(ger_tokenizer, ger_length, test[:, 1])\n",
    "attention_testY = encode_sequences(eng_tokenizer, eng_length, test[:, 0])\n",
    "attention_testY = encode_output(attention_testY, eng_vocab_size)\n",
    "\n",
    "attention_model = define_attention_model(ger_vocab_size, eng_vocab_size, ger_length, eng_length, 256)\n",
    "attention_model.compile(optimizer='adam', loss='categorical_crossentropy', metrics=['accuracy'])\n",
    "\n",
    "# summarize defined model\n",
    "print(attention_model.summary())\n",
    "plot_model(attention_model, to_file='attention_model.png', show_shapes=True)\n",
    "\n",
    "# fit model\n",
    "filename = 'attention_model.h5'\n",
    "checkpoint = ModelCheckpoint(filename, monitor='val_loss', verbose=1, save_best_only=True, mode='min')\n",
    "attention_history = attention_model.fit(attention_trainX, attention_trainY, epochs=30, batch_size=256, validation_data=(attention_valiX, attention_valiY), callbacks=[checkpoint], verbose=2)"
   ]
  },
  {
   "cell_type": "code",
   "execution_count": 30,
   "metadata": {},
   "outputs": [
    {
     "data": {
      "image/png": "[encoded data removed]",
      "text/plain": [
       "<Figure size 432x288 with 1 Axes>"
      ]
     },
     "metadata": {
      "needs_background": "light"
     },
     "output_type": "display_data"
    }
   ],
   "source": [
    "%matplotlib inline\n",
    "import matplotlib.pyplot as plt\n",
    "\n",
    "loss = attention_history.history['loss']\n",
    "val_loss = attention_history.history['val_loss']\n",
    "\n",
    "epochs = range(1, len(loss) + 1)\n",
    "\n",
    "plt.figure()\n",
    "\n",
    "plt.plot(epochs, loss, 'bo', label='Training loss')\n",
    "plt.plot(epochs, val_loss, 'b', label='Validation loss')\n",
    "plt.title('Training and validation loss')\n",
    "plt.legend()\n",
    "\n",
    "plt.show()"
   ]
  },
  {
   "cell_type": "markdown",
   "metadata": {
    "colab_type": "text",
    "id": "Ou94F5LLzG41"
   },
   "source": [
    "## Evaluate the Model"
   ]
  },
  {
   "cell_type": "code",
   "execution_count": 21,
   "metadata": {
    "colab": {},
    "colab_type": "code",
    "id": "fTO7C1gFzXhS"
   },
   "outputs": [],
   "source": [
    "from pickle import load\n",
    "from numpy import array\n",
    "from numpy import argmax\n",
    "from keras.preprocessing.text import Tokenizer\n",
    "from keras.preprocessing.sequence import pad_sequences\n",
    "from keras.models import load_model\n",
    "from nltk.translate.bleu_score import corpus_bleu\n",
    "from nltk.translate.bleu_score import SmoothingFunction"
   ]
  },
  {
   "cell_type": "code",
   "execution_count": 22,
   "metadata": {
    "colab": {},
    "colab_type": "code",
    "id": "n-dGUQGSzq9P"
   },
   "outputs": [],
   "source": [
    "# map an integer to a word\n",
    "def word_for_id(integer, tokenizer):\n",
    "\tfor word, index in tokenizer.word_index.items():\n",
    "\t\tif index == integer:\n",
    "\t\t\treturn word\n",
    "\treturn None"
   ]
  },
  {
   "cell_type": "code",
   "execution_count": 23,
   "metadata": {
    "colab": {},
    "colab_type": "code",
    "id": "oC56ziVqztlj"
   },
   "outputs": [],
   "source": [
    "# generate target given source sequence\n",
    "def predict_sequence(model, tokenizer, source):\n",
    "\tprediction = model.predict(source, verbose=0)[0]\n",
    "\tintegers = [argmax(vector) for vector in prediction]\n",
    "\ttarget = list()\n",
    "\tfor i in integers:\n",
    "\t\tword = word_for_id(i, tokenizer)\n",
    "\t\tif word is None:\n",
    "\t\t\tbreak\n",
    "\t\ttarget.append(word)\n",
    "\treturn ' '.join(target)"
   ]
  },
  {
   "cell_type": "code",
   "execution_count": 24,
   "metadata": {
    "colab": {},
    "colab_type": "code",
    "id": "gm8veHBhzwL6"
   },
   "outputs": [],
   "source": [
    "# evaluate the skill of the model\n",
    "def evaluate_model(model, tokenizer, sources, raw_dataset):\n",
    "  smoothie = SmoothingFunction().method4\n",
    "  actual, predicted = list(), list()\n",
    "  correct_num = 0\n",
    "  total = 0\n",
    "  for i, source in enumerate(sources):\n",
    "    # translate encoded source text\n",
    "    source = source.reshape((1, source.shape[0]))\n",
    "    translation = predict_sequence(model, eng_tokenizer, source)\n",
    "    raw_target, raw_src = raw_dataset[i]\n",
    "    total += 1\n",
    "    if translation == raw_target.lower():\n",
    "      correct_num += 1\n",
    "    if i < 10:\n",
    "      print('src=[%s], target=[%s], predicted=[%s]' % (raw_src, raw_target, translation))\n",
    "    actual.append(raw_target.split())\n",
    "    predicted.append(translation.split())\n",
    "\t# calculate BLEU score\n",
    "  print('BLEU-1: %f' % corpus_bleu(actual, predicted, weights=(1.0, 0, 0, 0), smoothing_function=smoothie))\n",
    "  print('BLEU-2: %f' % corpus_bleu(actual, predicted, weights=(0.5, 0.5, 0, 0), smoothing_function=smoothie))\n",
    "  print('BLEU-3: %f' % corpus_bleu(actual, predicted, weights=(0.3, 0.3, 0.3, 0), smoothing_function=smoothie))\n",
    "  print('BLEU-4: %f' % corpus_bleu(actual, predicted, weights=(0.25, 0.25, 0.25, 0.25), smoothing_function=smoothie))\n",
    "  # calculate accuracy\n",
    "  print(\"absolute accuracy=[%f], \" %float(correct_num / total))"
   ]
  },
  {
   "cell_type": "code",
   "execution_count": 40,
   "metadata": {
    "colab": {
     "base_uri": "https://localhost:8080/",
     "height": 697
    },
    "colab_type": "code",
    "id": "EXv2hWNszw-O",
    "outputId": "c615630d-ef33-4d72-8982-37b108f682c3"
   },
   "outputs": [
    {
     "name": "stdout",
     "output_type": "stream",
     "text": [
      "\n",
      "Loading baseline model:\n",
      "train\n",
      "src=[Du hast echt n Knall], target=[Youre such a weirdo], predicted=[youre have a weirdo]\n",
      "src=[Da sind wir], target=[Here we are], predicted=[were we are]\n",
      "src=[Er ist in meiner Klasse], target=[Hes in my class], predicted=[hes in my my]\n",
      "src=[Er hatte die richtige Idee], target=[He had the right idea], predicted=[he was the plan]\n",
      "src=[Tom kam gut zu Hause an], target=[Tom arrived home safely], predicted=[tom arrived home home]\n",
      "src=[Ich habe mit dem Rauchen aufgehort], target=[I quit smoking], predicted=[i quit smoking smoking]\n",
      "src=[Macht euch keine Gedanken Ich sage nichts], target=[Dont worry I wont tell], predicted=[dont worry i i say]\n",
      "src=[Tom zerriss den Scheck], target=[Tom ripped up the check], predicted=[tom ripped up the]\n",
      "src=[Er ist an dieser Krankheit gestorben], target=[He died of that disease], predicted=[he died his his disease]\n",
      "src=[Er hat sich den Arm ausgerenkt], target=[He dislocated his arm], predicted=[he dislocated his arm]\n",
      "BLEU-1: 0.052111\n",
      "BLEU-2: 0.000690\n",
      "BLEU-3: 0.009731\n",
      "BLEU-4: 0.015485\n",
      "absolute accuracy=[0.432657], \n",
      "test\n",
      "src=[Das ist nie passiert], target=[This never happened], predicted=[everyone never happened]\n",
      "src=[Ich frage mich was geschehen wird], target=[I wonder what will happen], predicted=[i wonder what what]\n",
      "src=[Horen Sie auf sich wie ein Kind aufzufuhren], target=[Stop acting like a baby], predicted=[stop acting like a baby]\n",
      "src=[Habt ihr sie gesehen], target=[Have you seen her], predicted=[have you see them]\n",
      "src=[Willst du mitkommen], target=[Do you want to come along], predicted=[do you want to join]\n",
      "src=[Ich wei wo sie wohnt], target=[I know where she lives], predicted=[i know where you lives]\n",
      "src=[Lass mich sehen], target=[Let me see], predicted=[let me see]\n",
      "src=[Ich will das Mittagessen heute auslassen], target=[I plan to skip lunch], predicted=[i want an skipping lunch]\n",
      "src=[Das werden wir noch sehen], target=[That remains to be seen], predicted=[well see it]\n",
      "src=[Man hat mich angeschossen], target=[Ive been shot], predicted=[she had me me]\n",
      "BLEU-1: 0.053517\n",
      "BLEU-2: 0.191846\n",
      "BLEU-3: 0.283664\n",
      "BLEU-4: 0.256697\n",
      "absolute accuracy=[0.109533], \n"
     ]
    }
   ],
   "source": [
    "# load model\n",
    "print()\n",
    "print(\"Loading baseline model:\")\n",
    "\n",
    "model = load_model('model.h5')\n",
    "\n",
    "# test on some training sequences\n",
    "print('train')\n",
    "evaluate_model(model, eng_tokenizer, trainX, train)\n",
    "# test on some test sequences\n",
    "print('test')\n",
    "evaluate_model(model, eng_tokenizer, testX, test)"
   ]
  },
  {
   "cell_type": "code",
   "execution_count": 25,
   "metadata": {},
   "outputs": [
    {
     "name": "stdout",
     "output_type": "stream",
     "text": [
      "\n",
      "Loading bidirectional model:\n",
      "train\n",
      "src=[Tom hat geschummelt], target=[Tom was cheating], predicted=[tom cheated]\n",
      "src=[Ich flehe dich an mir zu helfen], target=[I beg you to help me], predicted=[i beg you to help me]\n",
      "src=[Tom ist wutend], target=[Tom is furious], predicted=[tom is furious]\n",
      "src=[Wir haben alles gesehen], target=[We saw everything], predicted=[we saw everything]\n",
      "src=[Ich sagte ich erinnere mich nicht], target=[I said I didnt remember], predicted=[i said i didnt remember]\n",
      "src=[Sie sollten sich einen Tag freinehmen], target=[You should take a day off], predicted=[you should take a day off]\n",
      "src=[Es gibt keine andere Erklarung], target=[Theres no other explanation], predicted=[theres no no other]\n",
      "src=[Das ist die Kamera meiner Schwester], target=[Thats my sisters camera], predicted=[this my sisters sisters]\n",
      "src=[Nehmen Sie die nachste Strae rechts], target=[Take the next right], predicted=[take the next right]\n",
      "src=[Das war unverzeihlich], target=[That was unforgivable], predicted=[that was unforgivable]\n",
      "BLEU-1: 0.048958\n",
      "BLEU-2: 0.187549\n",
      "BLEU-3: 0.281999\n",
      "BLEU-4: 0.256604\n",
      "absolute accuracy=[0.479533], \n",
      "test\n",
      "src=[Kann jemand anderes antworten], target=[Can anybody else answer], predicted=[can anyone answer answer]\n",
      "src=[Das Rad wird durch Wasserkraft angetrieben], target=[Water power turns the wheel], predicted=[the back is back complete]\n",
      "src=[Tom lehnte sich an die Wand], target=[Tom leaned against the wall], predicted=[tom leaned on the wall wall]\n",
      "src=[Wir werden es uns ansehen], target=[Well take a look], predicted=[well get it]\n",
      "src=[Sie gewinnen], target=[Youre winning], predicted=[they winning]\n",
      "src=[Es ist sich niemand so ganz sicher], target=[Nobody is really sure], predicted=[it no no that true]\n",
      "src=[Maria hat kein Selbstwertgefuhl], target=[Mary has no selfesteem], predicted=[mary has not]\n",
      "src=[Ich besuchte mit Tom ein Konzert], target=[I went to a concert with Tom], predicted=[i went to with work tom]\n",
      "src=[Ich kam auf einen Gedanken], target=[I hit on an idea], predicted=[i was about]\n",
      "src=[Hat Tom etwas zu Abend gegessen], target=[Did Tom eat dinner], predicted=[did tom eaten dinner dinner]\n",
      "BLEU-1: 0.049230\n",
      "BLEU-2: 0.182429\n",
      "BLEU-3: 0.274385\n",
      "BLEU-4: 0.249228\n",
      "absolute accuracy=[0.184667], \n"
     ]
    }
   ],
   "source": [
    "# load bidirectional model\n",
    "print()\n",
    "print(\"Loading bidirectional model:\")\n",
    "bi_model = load_model('bi_model.h5')\n",
    "print('train')\n",
    "evaluate_model(bi_model, eng_tokenizer, bi_trainX, train)\n",
    "# test on some test sequences\n",
    "print('test')\n",
    "evaluate_model(bi_model, eng_tokenizer, bi_testX, test)"
   ]
  },
  {
   "cell_type": "code",
   "execution_count": 31,
   "metadata": {},
   "outputs": [
    {
     "name": "stdout",
     "output_type": "stream",
     "text": [
      "\n",
      "Loading attention model:\n",
      "train\n",
      "src=[Tom hat geschummelt], target=[Tom was cheating], predicted=[tom cheated]\n",
      "src=[Ich flehe dich an mir zu helfen], target=[I beg you to help me], predicted=[i beg you to help me]\n",
      "src=[Tom ist wutend], target=[Tom is furious], predicted=[tom is infuriated]\n",
      "src=[Wir haben alles gesehen], target=[We saw everything], predicted=[we saw everything]\n",
      "src=[Ich sagte ich erinnere mich nicht], target=[I said I didnt remember], predicted=[i said i didnt remember]\n",
      "src=[Sie sollten sich einen Tag freinehmen], target=[You should take a day off], predicted=[you should take a day off]\n",
      "src=[Es gibt keine andere Erklarung], target=[Theres no other explanation], predicted=[theres no other explanation]\n",
      "src=[Das ist die Kamera meiner Schwester], target=[Thats my sisters camera], predicted=[this is sisters sisters camera]\n",
      "src=[Nehmen Sie die nachste Strae rechts], target=[Take the next right], predicted=[take the next next right]\n",
      "src=[Das war unverzeihlich], target=[That was unforgivable], predicted=[that was unforgivable]\n",
      "BLEU-1: 0.050183\n",
      "BLEU-2: 0.189880\n",
      "BLEU-3: 0.284097\n",
      "BLEU-4: 0.258194\n",
      "absolute accuracy=[0.510400], \n",
      "test\n",
      "src=[Kann jemand anderes antworten], target=[Can anybody else answer], predicted=[can anyone know know]\n",
      "src=[Das Rad wird durch Wasserkraft angetrieben], target=[Water power turns the wheel], predicted=[the meeting started be by]\n",
      "src=[Tom lehnte sich an die Wand], target=[Tom leaned against the wall], predicted=[tom leaned on the wall]\n",
      "src=[Wir werden es uns ansehen], target=[Well take a look], predicted=[well look to]\n",
      "src=[Sie gewinnen], target=[Youre winning], predicted=[they winning]\n",
      "src=[Es ist sich niemand so ganz sicher], target=[Nobody is really sure], predicted=[its no but sure]\n",
      "src=[Maria hat kein Selbstwertgefuhl], target=[Mary has no selfesteem], predicted=[mary has no]\n",
      "src=[Ich besuchte mit Tom ein Konzert], target=[I went to a concert with Tom], predicted=[i went to to a tom]\n",
      "src=[Ich kam auf einen Gedanken], target=[I hit on an idea], predicted=[i came a]\n",
      "src=[Hat Tom etwas zu Abend gegessen], target=[Did Tom eat dinner], predicted=[did tom propose dinner]\n",
      "BLEU-1: 0.050748\n",
      "BLEU-2: 0.185214\n",
      "BLEU-3: 0.276888\n",
      "BLEU-4: 0.251119\n",
      "absolute accuracy=[0.193733], \n"
     ]
    }
   ],
   "source": [
    "# load attention model\n",
    "print()\n",
    "print(\"Loading attention model:\")\n",
    "attention_model = load_model('attention_model.h5', custom_objects={'AttentionL':AttentionL})\n",
    "print('train')\n",
    "evaluate_model(attention_model, eng_tokenizer, attention_trainX, train)\n",
    "# test on some test sequences\n",
    "print('test')\n",
    "evaluate_model(attention_model, eng_tokenizer, attention_testX, test)"
   ]
  },
  {
   "cell_type": "code",
   "execution_count": 27,
   "metadata": {
    "colab": {},
    "colab_type": "code",
    "id": "jW2DhSQO9bsy"
   },
   "outputs": [
    {
     "name": "stdout",
     "output_type": "stream",
     "text": [
      "tokenizer exported\n"
     ]
    }
   ],
   "source": [
    "import pickle \n",
    "\n",
    "with open('ger_tokenizer.pickle', 'wb') as handle:\n",
    "    pickle.dump(ger_tokenizer, handle, protocol=pickle.HIGHEST_PROTOCOL)\n",
    "\n",
    "with open('eng_tokenizer.pickle', 'wb') as handle:\n",
    "    pickle.dump(eng_tokenizer, handle, protocol=pickle.HIGHEST_PROTOCOL)\n",
    "\n",
    "print(\"tokenizer exported\")"
   ]
  },
  {
   "cell_type": "code",
   "execution_count": null,
   "metadata": {},
   "outputs": [],
   "source": []
  }
 ],
 "metadata": {
  "accelerator": "TPU",
  "colab": {
   "collapsed_sections": [],
   "name": "WF_CSCE636_Project.ipynb",
   "provenance": [],
   "toc_visible": true,
   "version": "0.3.2"
  },
  "kernelspec": {
   "display_name": "Python 3",
   "language": "python",
   "name": "python3"
  },
  "language_info": {
   "codemirror_mode": {
    "name": "ipython",
    "version": 3
   },
   "file_extension": ".py",
   "mimetype": "text/x-python",
   "name": "python",
   "nbconvert_exporter": "python",
   "pygments_lexer": "ipython3",
   "version": "3.7.1"
  }
 },
 "nbformat": 4,
 "nbformat_minor": 1
}
